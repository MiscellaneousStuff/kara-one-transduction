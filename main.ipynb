{
 "cells": [
  {
   "cell_type": "markdown",
   "metadata": {},
   "source": [
    "# Kara One - Transduction"
   ]
  },
  {
   "cell_type": "markdown",
   "metadata": {},
   "source": [
    "## Load Dataset"
   ]
  },
  {
   "cell_type": "code",
   "execution_count": 1,
   "metadata": {},
   "outputs": [],
   "source": [
    "from lib import KaraOneDataset\n",
    "\n",
    "dataset_dir = \"C:\\\\Users\\\\win8t\\\\OneDrive\\\\Desktop\\\\projects\\\\kara-one-transduction\\\\p\"\n",
    "dataset = KaraOneDataset(dataset_dir)"
   ]
  },
  {
   "cell_type": "code",
   "execution_count": 2,
   "metadata": {},
   "outputs": [
    {
     "name": "stdout",
     "output_type": "stream",
     "text": [
      "True\n",
      "16000\n",
      "PATH: C:\\Users\\win8t\\OneDrive\\Desktop\\projects\\kara-one-transduction\\p\\spoclab\\users\\szhao\\EEG\\data\\MM05\\Acquisition 232 Data.cnt\n",
      "Reading 0 ... 2477399  =      0.000 ...  2477.399 secs...\n"
     ]
    },
    {
     "data": {
      "text/plain": [
       "{'label': '/uw/',\n",
       " 'audio': array([0.00000000e+00, 0.00000000e+00, 0.00000000e+00, ...,\n",
       "        0.00000000e+00, 3.05175781e-05, 0.00000000e+00]),\n",
       " 'emg': array([[-0.02040429, -0.0204033 , -0.02040707, ..., -0.01750357,\n",
       "         -0.01751409, -0.01750607],\n",
       "        [-0.01680895, -0.01681136, -0.01681457, ..., -0.0179836 ,\n",
       "         -0.01799233, -0.01798686],\n",
       "        [-0.0252607 , -0.02526095, -0.02526514, ..., -0.02211011,\n",
       "         -0.02211827, -0.02211488],\n",
       "        ...,\n",
       "        [-0.00265201, -0.00265287, -0.00265266, ..., -0.01152627,\n",
       "         -0.01152911, -0.01152572],\n",
       "        [ 0.00302711,  0.00302566,  0.00302705, ...,  0.00323691,\n",
       "          0.00323423,  0.00323722],\n",
       "        [-0.01240757, -0.01240912, -0.01240977, ..., -0.01242258,\n",
       "         -0.01242561, -0.01242265]])}"
      ]
     },
     "execution_count": 2,
     "metadata": {},
     "output_type": "execute_result"
    }
   ],
   "source": [
    "dataset[0]"
   ]
  }
 ],
 "metadata": {
  "kernelspec": {
   "display_name": "Python 3.9.9 64-bit",
   "language": "python",
   "name": "python3"
  },
  "language_info": {
   "codemirror_mode": {
    "name": "ipython",
    "version": 3
   },
   "file_extension": ".py",
   "mimetype": "text/x-python",
   "name": "python",
   "nbconvert_exporter": "python",
   "pygments_lexer": "ipython3",
   "version": "3.9.9"
  },
  "orig_nbformat": 4,
  "vscode": {
   "interpreter": {
    "hash": "28453d1081d3c550fce4dd227bac61cebcdf565b50505afc80cae3c0cf61cf22"
   }
  }
 },
 "nbformat": 4,
 "nbformat_minor": 2
}
